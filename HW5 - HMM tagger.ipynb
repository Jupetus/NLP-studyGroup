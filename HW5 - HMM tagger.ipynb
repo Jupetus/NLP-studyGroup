{
 "cells": [
  {
   "cell_type": "code",
   "execution_count": 3,
   "metadata": {},
   "outputs": [
    {
     "name": "stdout",
     "output_type": "stream",
     "text": [
      "[nltk_data] Downloading package brown to\n",
      "[nltk_data]     /u/96/pajunej5/unix/nltk_data...\n",
      "[nltk_data]   Package brown is already up-to-date!\n"
     ]
    },
    {
     "data": {
      "text/plain": [
       "True"
      ]
     },
     "execution_count": 3,
     "metadata": {},
     "output_type": "execute_result"
    }
   ],
   "source": [
    "#===============================\n",
    "# Translation from pure python to notebook for easier read!\n",
    "#===============================\n",
    "import nltk\n",
    "import numpy as np\n",
    "from collections import Counter\n",
    "import re\n",
    "from nltk import ngrams\n",
    "from nltk.stem import PorterStemmer\n",
    "from nltk.tokenize import RegexpTokenizer\n",
    "\n",
    "# uncomment to get corpus with tagged words!\n",
    "# nltk.download('brown')"
   ]
  },
  {
   "cell_type": "code",
   "execution_count": 4,
   "metadata": {},
   "outputs": [],
   "source": [
    "# ====================\n",
    "# Homework to build HMM word tagger!\n",
    "# Whoops forgot to do this back then!\n",
    "# Whoops --- still forgot to do this and now too late\n",
    "# ===================="
   ]
  },
  {
   "cell_type": "code",
   "execution_count": null,
   "metadata": {},
   "outputs": [],
   "source": [
    "def Viterbi(observation, state_graph):\n",
    "    viterbi = np.zeros((len(state_graph) + 2, len(observation)))\n",
    "    \n",
    "    #for s in range(len(state_graph)):\n",
    "    #    viterbi[s, 1] = \n",
    "    print(viterbi)\n",
    "    # POS - Part of speech\n",
    "    # Initialize! t0 <- P(POS) * P(word | POS)\n",
    "\n",
    "\n",
    "    # t + 1 <- MAX( P(POS_T + 1 | POS_t) * P(word | POS) )\n",
    "\n",
    "    return 0"
   ]
  },
  {
   "cell_type": "code",
   "execution_count": 5,
   "metadata": {},
   "outputs": [],
   "source": [
    "def stemMyStrings(words):\n",
    "    stemmer = PorterStemmer()  # SnowballStemmer('english')\n",
    "    newListSAS = []\n",
    "    for word in words:\n",
    "        newListSAS.append(stemmer.stem(word))\n",
    "    return \"\".join(newListSAS)\n",
    "\n",
    "def load_data():\n",
    "    rTokenizer = RegexpTokenizer('\\w+') #^([^0-9]*)]\n",
    "    path = \"Dataset2.txt\"\n",
    "    Reviews = []\n",
    "    with open(path) as f:\n",
    "        for line in f.readlines():\n",
    "            review = line.split('$')\n",
    "            tokenized = rTokenizer.tokenize(review[2].strip())\n",
    "            stemmed = stemMyStrings(\" \".join(tokenized))\n",
    "\n",
    "            review[2] = \" \".join(tokenized)\n",
    "            Reviews.append(re.sub('[0-9]+', '', stemmed))\n",
    "    return Reviews\n",
    "\n",
    "def get_bigram_probabilities(tokens):\n",
    "    bigrams = list(ngrams(tokens, 2))\n",
    "    unigrams = Counter(tokens)\n",
    "    probabilities = {}\n",
    "\n",
    "    for bigram in bigrams:\n",
    "        denominator = unigrams['NN']\n",
    "        numerator = bigrams.count(bigram)\n",
    "        probabilities[bigram] = numerator / denominator\n",
    "    return probabilities"
   ]
  },
  {
   "cell_type": "code",
   "execution_count": 11,
   "metadata": {},
   "outputs": [],
   "source": [
    "# Get corpus with tagged words!\n",
    "brown_data = nltk.corpus.brown.tagged_words()\n",
    "brown_dictionary = {word: POV for word, POV in brown_data}\n",
    "\n",
    "\n",
    "# Load data and label the words!\n",
    "all_data = load_data()\n",
    "complete_data = []\n",
    "data_size = len(all_data)\n",
    "data_offset = int(0.8 * data_size)\n",
    "tokens = []\n",
    "\n",
    "# Process reviews to Part-of-speech\n",
    "counter_in_brown = 0\n",
    "counter_not_brown = 0\n",
    "for line in all_data:\n",
    "    tmp = line.split()\n",
    "    line = []\n",
    "    for word in tmp:\n",
    "        if word in brown_dictionary.keys():\n",
    "            counter_in_brown += 1\n",
    "            line.append((word, brown_dictionary[word]))\n",
    "            tokens.append(brown_dictionary[word])\n",
    "        else:\n",
    "            counter_not_brown += 1\n",
    "            line.append((word, \"UNK\"))\n",
    "            tokens.append(\"UNK\")\n",
    "    complete_data.append(line)\n",
    "    \n",
    "# Divide the data!\n",
    "train_data = complete_data[:data_offset]\n",
    "test_data = complete_data[data_offset + 1 :]\n",
    "probabilities = get_bigram_probabilities(tokens)\n"
   ]
  },
  {
   "cell_type": "code",
   "execution_count": 18,
   "metadata": {},
   "outputs": [],
   "source": [
    "test = Counter(brown_dictionary.values())"
   ]
  },
  {
   "cell_type": "code",
   "execution_count": null,
   "metadata": {},
   "outputs": [],
   "source": []
  }
 ],
 "metadata": {
  "kernelspec": {
   "display_name": "Python 3",
   "language": "python",
   "name": "python3"
  },
  "language_info": {
   "codemirror_mode": {
    "name": "ipython",
    "version": 3
   },
   "file_extension": ".py",
   "mimetype": "text/x-python",
   "name": "python",
   "nbconvert_exporter": "python",
   "pygments_lexer": "ipython3",
   "version": "3.6.5"
  }
 },
 "nbformat": 4,
 "nbformat_minor": 2
}
