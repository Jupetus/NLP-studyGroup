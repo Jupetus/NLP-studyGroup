{
 "cells": [
  {
   "cell_type": "code",
   "execution_count": 1,
   "metadata": {},
   "outputs": [],
   "source": [
    "#===============================\n",
    "# Translation from pure python to notebook for easier read!\n",
    "#===============================\n",
    "import numpy as np"
   ]
  },
  {
   "cell_type": "code",
   "execution_count": 2,
   "metadata": {},
   "outputs": [],
   "source": [
    "# Method to calculate Min-edit-distance\n",
    "def mineditdistance(source_word, target_word, show_grid = False):\n",
    "    n = len(source_word) + 1\n",
    "    m = len(target_word) + 1\n",
    "    D = np.zeros((n, m))\n",
    "    \n",
    "    # Initialize column 0\n",
    "    for i in range(1, n):\n",
    "        D[i,0] = D[i - 1, 0] + 1\n",
    "    # Initialize row 0\n",
    "    for j in range(1, m):\n",
    "        D[0,j] = D[0, j - 1] + 1\n",
    "    # Solve\n",
    "    for i in range(1, n):\n",
    "        for j in range(1, m):\n",
    "            subcost = 0 if source_word[i - 1] == target_word[j - 1] else 1\n",
    "            D[i, j] = min(D[i - 1, j] + 1, D[i, j - 1] + 1, D[i - 1, j - 1] + subcost)\n",
    "            \n",
    "    if show_grid:\n",
    "        print(D)\n",
    "        \n",
    "    return D[n - 1, m - 1]"
   ]
  },
  {
   "cell_type": "code",
   "execution_count": 3,
   "metadata": {},
   "outputs": [
    {
     "name": "stdout",
     "output_type": "stream",
     "text": [
      "[[0. 1. 2. 3. 4.]\n",
      " [1. 1. 2. 3. 3.]\n",
      " [2. 2. 1. 2. 3.]\n",
      " [3. 2. 2. 2. 3.]\n",
      " [4. 3. 3. 2. 3.]]\n"
     ]
    },
    {
     "data": {
      "text/plain": [
       "3.0"
      ]
     },
     "execution_count": 3,
     "metadata": {},
     "output_type": "execute_result"
    }
   ],
   "source": [
    "#===============================\n",
    "#           Assignment 2.4\n",
    "# Compute the edit distance from \"leda\" to \"deal\"\n",
    "#===============================\n",
    "\n",
    "mineditdistance(\"leda\", \"deal\", show_grid = True)"
   ]
  },
  {
   "cell_type": "code",
   "execution_count": 4,
   "metadata": {},
   "outputs": [
    {
     "name": "stdout",
     "output_type": "stream",
     "text": [
      "3.0\n",
      "3.0\n"
     ]
    }
   ],
   "source": [
    "#===============================\n",
    "#           Assignment 2.5\n",
    "# Is drive closer to brief or divers!\n",
    "#===============================\n",
    "\n",
    "print(mineditdistance(\"drive\", \"divers\"))\n",
    "print(mineditdistance(\"drive\", \"brief\"))\n",
    "# Edit distances are the same!"
   ]
  },
  {
   "cell_type": "code",
   "execution_count": 5,
   "metadata": {},
   "outputs": [],
   "source": [
    "#===============================\n",
    "#           Assignment 2.6\n",
    "# The paper calculations are somewhere\n",
    "#==============================="
   ]
  },
  {
   "cell_type": "code",
   "execution_count": null,
   "metadata": {},
   "outputs": [],
   "source": []
  }
 ],
 "metadata": {
  "kernelspec": {
   "display_name": "Python 3",
   "language": "python",
   "name": "python3"
  },
  "language_info": {
   "codemirror_mode": {
    "name": "ipython",
    "version": 3
   },
   "file_extension": ".py",
   "mimetype": "text/x-python",
   "name": "python",
   "nbconvert_exporter": "python",
   "pygments_lexer": "ipython3",
   "version": "3.6.5"
  }
 },
 "nbformat": 4,
 "nbformat_minor": 2
}
